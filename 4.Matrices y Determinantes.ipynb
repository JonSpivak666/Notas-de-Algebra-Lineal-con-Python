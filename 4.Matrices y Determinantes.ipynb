{
 "cells": [
  {
   "cell_type": "markdown",
   "id": "d6d12e48-81b4-4edc-90cd-abdd7addef78",
   "metadata": {},
   "source": [
    "# Matrices y Determinantes "
   ]
  },
  {
   "cell_type": "markdown",
   "id": "22da211a-0ca4-4c55-b35f-40dd744dc907",
   "metadata": {},
   "source": [
    "# Operaciones con Matrices\n",
    "**Suma, Producto y Transposición**\n",
    "\n",
    "Las operaciones fundamentales con matrices incluyen la suma, el producto y la transposición.\n",
    "\n",
    "- **Suma de Matrices**: Dadas dos matrices $A$ y $B$ del mismo tamaño, la suma $A + B$ se obtiene sumando los elementos correspondientes de ambas matrices.\n",
    "\n",
    "  $$\n",
    "  (A + B)_{ij} = A_{ij} + B_{ij}\n",
    "  $$\n",
    "\n",
    "  La suma de matrices es conmutativa y asociativa. Es decir, para cualquier par de matrices $A$ y $B$ del mismo tamaño:\n",
    "  $$\n",
    "  A + B = B + A\n",
    "  $$\n",
    "  y para cualquier tres matrices $A$, $B$ y $C$ del mismo tamaño:\n",
    "  $$\n",
    "  (A + B) + C = A + (B + C)\n",
    "  $$\n",
    "\n",
    "- **Producto de Matrices**: Dadas dos matrices $A$ de tamaño $m \\times n$ y $B$ de tamaño $n \\times p$, el producto $AB$ es una matriz de tamaño $m \\times p$ donde cada elemento se calcula como:\n",
    "\n",
    "  $$\n",
    "  (AB)_{ij} = \\sum_{k=1}^n A_{ik} B_{kj}\n",
    "  $$\n",
    "\n",
    "  El producto de matrices no es conmutativo en general, es decir, para matrices $A$ y $B$, usualmente $AB \\neq BA$. Sin embargo, el producto de matrices es asociativo y distributivo respecto a la suma:\n",
    "  $$\n",
    "  A(BC) = (AB)C\n",
    "  $$\n",
    "  y\n",
    "  $$\n",
    "  A(B + C) = AB + AC\n",
    "  $$\n",
    "  para matrices $A$, $B$ y $C$ de tamaños compatibles.\n",
    "\n",
    "- **Transposición**: La transposición de una matriz $A$, denotada por $A^T$, es una nueva matriz donde las filas de $A$ se convierten en columnas y las columnas en filas.\n",
    "\n",
    "  $$\n",
    "  (A^T)_{ij} = A_{ji}\n",
    "  $$\n",
    "\n",
    "  La transposición tiene varias propiedades importantes:\n",
    "  1. $(A^T)^T = A$\n",
    "  2. $(A + B)^T = A^T + B^T$\n",
    "  3. $(AB)^T = B^T A^T$\n",
    "\n",
    "**Matrices Inversas**\n",
    "\n",
    "Una matriz cuadrada $A$ de tamaño $n \\times n$ tiene una inversa $A^{-1}$ si existe una matriz tal que:\n",
    "\n",
    "$$\n",
    "A A^{-1} = A^{-1} A = I_n\n",
    "$$\n",
    "\n",
    "donde $I_n$ es la matriz identidad de tamaño $n \\times n$. La matriz identidad $I_n$ es una matriz diagonal con unos en la diagonal principal y ceros en todas las demás posiciones:\n",
    "$$\n",
    "I_n = \\begin{pmatrix}\n",
    "1 & 0 & \\cdots & 0 \\\\\n",
    "0 & 1 & \\cdots & 0 \\\\\n",
    "\\vdots & \\vdots & \\ddots & \\vdots \\\\\n",
    "0 & 0 & \\cdots & 1\n",
    "\\end{pmatrix}\n",
    "$$\n",
    "\n",
    "Para que una matriz $A$ tenga una inversa, su determinante debe ser no cero ($\\det(A) \\neq 0$). La inversa de una matriz tiene las siguientes propiedades:\n",
    "1. $(A^{-1})^{-1} = A$\n",
    "2. $(AB)^{-1} = B^{-1} A^{-1}$\n",
    "3. $(A^T)^{-1} = (A^{-1})^T$\n",
    "\n",
    "Para encontrar la inversa de una matriz, se pueden usar varios métodos, como la eliminación de Gauss-Jordan o el método de cofactores.\n"
   ]
  },
  {
   "cell_type": "markdown",
   "id": "e82a1e8a-3b8d-429e-88c4-205628cff0a3",
   "metadata": {},
   "source": [
    "# Determinantes\n",
    "**Definición y Propiedades**\n",
    "\n",
    "El determinante es una función que asigna un escalar a una matriz cuadrada. Para una matriz $A$ de tamaño $n \\times n$, el determinante se denota por $\\det(A)$ o $|A|$. El determinante se puede calcular mediante una variedad de métodos, incluyendo el desarrollo por cofactores.\n",
    "\n",
    "- **Propiedades del Determinante**:\n",
    "  1. $\\det(A) = 0$ si y solo si $A$ es singular (no invertible).\n",
    "  2. $\\det(AB) = \\det(A) \\cdot \\det(B)$ para cualquier par de matrices cuadradas $A$ y $B$ del mismo tamaño.\n",
    "  3. $\\det(A^T) = \\det(A)$ para cualquier matriz cuadrada $A$.\n",
    "  4. $\\det(cA) = c^n \\det(A)$ para cualquier matriz cuadrada $A$ de tamaño $n \\times n$ y cualquier escalar $c$.\n",
    "\n",
    "El determinante de una matriz $2 \\times 2$ $A = \\begin{pmatrix} a & b \\\\ c & d \\end{pmatrix}$ se calcula como:\n",
    "$$\n",
    "\\det(A) = ad - bc\n",
    "$$\n",
    "\n",
    "Para matrices de tamaño mayor, el determinante se puede calcular usando el desarrollo por cofactores. Para una matriz $3 \\times 3$ $A = \\begin{pmatrix} a & b & c \\\\ d & e & f \\\\ g & h & i \\end{pmatrix}$, el determinante se calcula como:\n",
    "$$\n",
    "\\det(A) = a(ei - fh) - b(di - fg) + c(dh - eg)\n",
    "$$\n",
    "\n",
    "**Teorema de Cramer**\n",
    "\n",
    "El Teorema de Cramer proporciona una solución para sistemas de ecuaciones lineales utilizando determinantes. Para un sistema de ecuaciones lineales $AX = B$, donde $A$ es una matriz invertible de tamaño $n \\times n$ y $X$ y $B$ son vectores columna, la solución viene dada por:\n",
    "\n",
    "$$\n",
    "X_i = \\frac{\\det(A_i)}{\\det(A)} \\quad \\text{para} \\quad i = 1, 2, \\ldots, n\n",
    "$$\n",
    "\n",
    "donde $A_i$ es la matriz que se obtiene al reemplazar la columna $i$ de $A$ con el vector $B$.\n"
   ]
  },
  {
   "cell_type": "markdown",
   "id": "c27c9108-d184-46a8-9571-d4667c45bb8c",
   "metadata": {},
   "source": [
    "# Ejemplos con Python"
   ]
  },
  {
   "cell_type": "markdown",
   "id": "1077b59f-9bf4-4832-be6e-dce5283bb15f",
   "metadata": {},
   "source": [
    "#### Ejemplo 1: Suma de Matrices\n"
   ]
  },
  {
   "cell_type": "code",
   "execution_count": 1,
   "id": "0d14e06e-dd36-4993-8cd9-61b99e0c16dc",
   "metadata": {},
   "outputs": [
    {
     "name": "stdout",
     "output_type": "stream",
     "text": [
      "La suma de A y B es:\n",
      "[[ 6  8]\n",
      " [10 12]]\n"
     ]
    }
   ],
   "source": [
    "import numpy as np\n",
    "\n",
    "# Definimos dos matrices\n",
    "A = np.array([[1, 2], [3, 4]])\n",
    "B = np.array([[5, 6], [7, 8]])\n",
    "\n",
    "# Calculamos la suma de las matrices\n",
    "C = A + B\n",
    "print(\"La suma de A y B es:\")\n",
    "print(C)\n"
   ]
  },
  {
   "cell_type": "markdown",
   "id": "5a52ec12-758f-4ba9-8d9c-824f5360f4a5",
   "metadata": {},
   "source": [
    "#### Ejemplo 2: Producto de Matrices\n"
   ]
  },
  {
   "cell_type": "code",
   "execution_count": 2,
   "id": "86f2fce8-3831-4a0c-b9bd-4c43d781a245",
   "metadata": {},
   "outputs": [
    {
     "name": "stdout",
     "output_type": "stream",
     "text": [
      "El producto de A y B es:\n",
      "[[19 22]\n",
      " [43 50]]\n"
     ]
    }
   ],
   "source": [
    "import numpy as np\n",
    "\n",
    "# Definimos dos matrices\n",
    "A = np.array([[1, 2], [3, 4]])\n",
    "B = np.array([[5, 6], [7, 8]])\n",
    "\n",
    "# Calculamos el producto de las matrices\n",
    "C = np.dot(A, B)\n",
    "print(\"El producto de A y B es:\")\n",
    "print(C)\n"
   ]
  },
  {
   "cell_type": "markdown",
   "id": "36b0a8d3-0850-42d9-8a41-ffd4eaac8499",
   "metadata": {},
   "source": [
    "#### Ejemplo 3: Transposición de una Matriz\n"
   ]
  },
  {
   "cell_type": "code",
   "execution_count": 3,
   "id": "98984e80-6f1b-4355-a912-a442750e8eba",
   "metadata": {},
   "outputs": [
    {
     "name": "stdout",
     "output_type": "stream",
     "text": [
      "La transposición de A es:\n",
      "[[1 3]\n",
      " [2 4]]\n"
     ]
    }
   ],
   "source": [
    "import numpy as np\n",
    "\n",
    "# Definimos una matriz\n",
    "A = np.array([[1, 2], [3, 4]])\n",
    "\n",
    "# Calculamos la transposición de la matriz\n",
    "A_T = np.transpose(A)\n",
    "print(\"La transposición de A es:\")\n",
    "print(A_T)\n"
   ]
  },
  {
   "cell_type": "markdown",
   "id": "8a88a197-a0ae-4be7-9cec-c69b2f3aed8f",
   "metadata": {},
   "source": [
    "#### Ejemplo 4: Inversa de una Matriz\n"
   ]
  },
  {
   "cell_type": "code",
   "execution_count": 4,
   "id": "4dd4e550-b89b-47b1-9593-b9a87cc1066f",
   "metadata": {},
   "outputs": [
    {
     "name": "stdout",
     "output_type": "stream",
     "text": [
      "La inversa de A es:\n",
      "[[-2.   1. ]\n",
      " [ 1.5 -0.5]]\n"
     ]
    }
   ],
   "source": [
    "import numpy as np\n",
    "\n",
    "# Definimos una matriz\n",
    "A = np.array([[1, 2], [3, 4]])\n",
    "\n",
    "# Calculamos la inversa de la matriz\n",
    "A_inv = np.linalg.inv(A)\n",
    "print(\"La inversa de A es:\")\n",
    "print(A_inv)\n"
   ]
  },
  {
   "cell_type": "markdown",
   "id": "dda2a948-4810-4f95-89b8-75787bb87b14",
   "metadata": {},
   "source": [
    "#### Ejemplo 5: Cálculo del Determinante\n"
   ]
  },
  {
   "cell_type": "code",
   "execution_count": 5,
   "id": "27d1e401-ed6d-42ad-9388-388895f1b6e7",
   "metadata": {},
   "outputs": [
    {
     "name": "stdout",
     "output_type": "stream",
     "text": [
      "El determinante de A es:\n",
      "-2.0000000000000004\n"
     ]
    }
   ],
   "source": [
    "import numpy as np\n",
    "\n",
    "# Definimos una matriz\n",
    "A = np.array([[1, 2], [3, 4]])\n",
    "\n",
    "# Calculamos el determinante de la matriz\n",
    "det_A = np.linalg.det(A)\n",
    "print(\"El determinante de A es:\")\n",
    "print(det_A)\n"
   ]
  },
  {
   "cell_type": "markdown",
   "id": "2a0df3f8-2a7f-4b18-bfcf-b8287427f2c5",
   "metadata": {},
   "source": [
    "#### Ejemplo 6: Solución de un Sistema de Ecuaciones usando el Teorema de Cramer\n"
   ]
  },
  {
   "cell_type": "code",
   "execution_count": 6,
   "id": "89375c76-16bc-48f9-a331-00dbdcd1d366",
   "metadata": {},
   "outputs": [
    {
     "name": "stdout",
     "output_type": "stream",
     "text": [
      "La solución del sistema es:\n",
      "x1 = 5.5813953488372166, x2 = -0.6976744186046513, x3 = -1.3720930232558137\n"
     ]
    }
   ],
   "source": [
    "import numpy as np\n",
    "\n",
    "# Definimos la matriz de coeficientes y el vector de términos independientes\n",
    "A = np.array([[2, -1, 5], [1, 1, -3], [2, 4, 1]])\n",
    "B = np.array([5, 9, 7])\n",
    "\n",
    "# Calculamos el determinante de A\n",
    "det_A = np.linalg.det(A)\n",
    "\n",
    "# Calculamos los determinantes de las matrices modificadas\n",
    "A1 = A.copy()\n",
    "A1[:, 0] = B\n",
    "det_A1 = np.linalg.det(A1)\n",
    "\n",
    "A2 = A.copy()\n",
    "A2[:, 1] = B\n",
    "det_A2 = np.linalg.det(A2)\n",
    "\n",
    "A3 = A.copy()\n",
    "A3[:, 2] = B\n",
    "det_A3 = np.linalg.det(A3)\n",
    "\n",
    "# Solucionamos el sistema usando el Teorema de Cramer\n",
    "x1 = det_A1 / det_A\n",
    "x2 = det_A2 / det_A\n",
    "x3 = det_A3 / det_A\n",
    "\n",
    "print(\"La solución del sistema es:\")\n",
    "print(f\"x1 = {x1}, x2 = {x2}, x3 = {x3}\")\n"
   ]
  }
 ],
 "metadata": {
  "kernelspec": {
   "display_name": "Python 3 (ipykernel)",
   "language": "python",
   "name": "python3"
  },
  "language_info": {
   "codemirror_mode": {
    "name": "ipython",
    "version": 3
   },
   "file_extension": ".py",
   "mimetype": "text/x-python",
   "name": "python",
   "nbconvert_exporter": "python",
   "pygments_lexer": "ipython3",
   "version": "3.12.3"
  }
 },
 "nbformat": 4,
 "nbformat_minor": 5
}
