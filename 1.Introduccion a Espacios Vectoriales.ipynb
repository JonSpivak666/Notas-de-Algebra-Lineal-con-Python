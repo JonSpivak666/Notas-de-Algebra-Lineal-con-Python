{
 "cells": [
  {
   "cell_type": "markdown",
   "id": "6b9ac8d0-8f5a-47d2-8221-8fec8f64f32f",
   "metadata": {},
   "source": [
    "# Introducción a Espacios Vectoriales"
   ]
  },
  {
   "cell_type": "markdown",
   "id": "d84ab5e5-1819-4b76-97fb-1c94f18c47c7",
   "metadata": {},
   "source": [
    "## Conceptos Básicos\n",
    "\n",
    "### Definición de Espacios Vectoriales\n",
    "\n",
    "Un **espacio vectorial** $V$ sobre un campo $\\mathbb{F}$ es una estructura algebraica que consiste en un conjunto no vacío $V$ junto con dos operaciones: suma de vectores y multiplicación por un escalar. Estas operaciones deben satisfacer las siguientes propiedades:\n",
    "\n",
    "1. **Cerradura bajo la suma**: Para todos los vectores $\\mathbf{u}, \\mathbf{v} \\in V$, el vector $\\mathbf{u} + \\mathbf{v}$ también está en $V$.\n",
    "2. **Asociatividad de la suma**: Para todos los vectores $\\mathbf{u}, \\mathbf{v}, \\mathbf{w} \\in V$, se tiene que \n",
    "   $$\n",
    "   (\\mathbf{u} + \\mathbf{v}) + \\mathbf{w} = \\mathbf{u} + (\\mathbf{v} + \\mathbf{w})\n",
    "   $$\n",
    "3. **Elemento neutro de la suma**: Existe un vector $\\mathbf{0} \\in V$ tal que \n",
    "   $$\n",
    "   \\mathbf{u} + \\mathbf{0} = \\mathbf{u}\n",
    "   $$\n",
    "   para todo $\\mathbf{u} \\in V$.\n",
    "4. **Elemento opuesto**: Para cada $\\mathbf{u} \\in V$, existe un vector $-\\mathbf{u} \\in V$ tal que \n",
    "   $$\n",
    "   \\mathbf{u} + (-\\mathbf{u}) = \\mathbf{0}\n",
    "   $$\n",
    "5. **Conmutatividad de la suma**: Para todos los vectores $\\mathbf{u}, \\mathbf{v} \\in V$, se tiene que \n",
    "   $$\n",
    "   \\mathbf{u} + \\mathbf{v} = \\mathbf{v} + \\mathbf{u}\n",
    "   $$\n",
    "6. **Cerradura bajo la multiplicación por un escalar**: Para todo $\\mathbf{u} \\in V$ y todo $\\alpha \\in \\mathbb{F}$, el vector \n",
    "   $$\n",
    "   \\alpha \\mathbf{u}\n",
    "   $$\n",
    "   también está en $V$.\n",
    "7. **Distributividad del producto por un escalar respecto de la suma de vectores**: Para todos los $\\alpha \\in \\mathbb{F}$ y $\\mathbf{u}, \\mathbf{v} \\in V$, se tiene que \n",
    "   $$\n",
    "   \\alpha (\\mathbf{u} + \\mathbf{v}) = \\alpha \\mathbf{u} + \\alpha \\mathbf{v}\n",
    "   $$\n",
    "8. **Distributividad del producto por un escalar respecto de la suma de escalares**: Para todos los $\\alpha, \\beta \\in \\mathbb{F}$ y $\\mathbf{u} \\in V$, se tiene que \n",
    "   $$\n",
    "   (\\alpha + \\beta) \\mathbf{u} = \\alpha \\mathbf{u} + \\beta \\mathbf{u}\n",
    "   $$\n",
    "9. **Compatibilidad del producto por un escalar**: Para todos los $\\alpha, \\beta \\in \\mathbb{F}$ y $\\mathbf{u} \\in V$, se tiene que \n",
    "   $$\n",
    "   \\alpha (\\beta \\mathbf{u}) = (\\alpha \\beta) \\mathbf{u}\n",
    "   $$\n",
    "10. **Elemento neutro de la multiplicación por un escalar**: Para todo $\\mathbf{u} \\in V$, se tiene que \n",
    "    $$ \n",
    "    1 \\mathbf{u} = \\mathbf{u}\n",
    "    $$\n",
    "    donde 1 es el elemento neutro multiplicativo en $\\mathbb{F}$.\n",
    "\n",
    "### Vectores y Escalares\n",
    "\n",
    "- **Vectores**: Son los elementos del conjunto $V$.\n",
    "- **Escalares**: Son los elementos del campo $\\mathbb{F}$.\n",
    "\n",
    "### Operaciones con Vectores\n",
    "\n",
    "1. **Suma de Vectores**: Dados dos vectores $\\mathbf{u}$ y $\\mathbf{v}$ en $V$, la suma $\\mathbf{u} + \\mathbf{v}$ es otro vector en $V$.\n",
    "2. **Multiplicación por un Escalar**: Dado un vector $\\mathbf{u}$ en $V$ y un escalar $\\alpha$ en $\\mathbb{F}$, el producto $\\alpha \\mathbf{u}$ es otro vector en $V$.\n",
    "\n",
    "Ejemplos típicos de espacios vectoriales incluyen $\\mathbb{R}^n$ (el conjunto de todos los vectores columna con $n$ componentes reales), el espacio de polinomios, y el espacio de funciones continuas.\n"
   ]
  },
  {
   "cell_type": "markdown",
   "id": "574c5883-068c-4755-b1f8-c7aea90f41a5",
   "metadata": {},
   "source": [
    "## Subespacios\n",
    "\n",
    "### Definición y Propiedades de Subespacios\n",
    "\n",
    "Un subconjunto $ W $ de un espacio vectorial $ V $ es un subespacio de $ V $ si $ W $ es un espacio vectorial bajo las mismas operaciones de $ V $. Para que $ W $ sea un subespacio, debe cumplir las siguientes propiedades:\n",
    "\n",
    "1. **Cierre bajo la adición**: Para todos los vectores $ \\mathbf{u}, \\mathbf{v} \\in W $, se tiene que\n",
    "   $$\n",
    "   \\mathbf{u} + \\mathbf{v} \\in W\n",
    "   $$\n",
    "\n",
    "2. **Cierre bajo la multiplicación escalar**: Para todo escalar $ a \\in \\mathbb{F} $ y todo vector $ \\mathbf{v} \\in W $, se tiene que\n",
    "   $$\n",
    "   a \\cdot \\mathbf{v} \\in W\n",
    "   $$\n",
    "\n",
    "3. **Contiene al vector cero**: El vector cero del espacio vectorial $ V $ debe estar en $ W $, es decir,\n",
    "   $$\n",
    "   \\mathbf{0} \\in W\n",
    "   $$\n",
    "\n",
    "### Desarrollo Teórico\n",
    "\n",
    "#### Cierre bajo la adición\n",
    "\n",
    "Para demostrar que $ W $ es cerrado bajo la adición, tomemos dos vectores cualesquiera $ \\mathbf{u} $ y $ \\mathbf{v} $ en $ W $. Si $ W $ es un subespacio, entonces la suma $ \\mathbf{u} + \\mathbf{v} $ también debe pertenecer a $ W $. Esta propiedad asegura que al combinar vectores dentro de $ W $, el resultado siempre permanecerá dentro de $ W $.\n",
    "\n",
    "#### Cierre bajo la multiplicación escalar\n",
    "\n",
    "Para demostrar el cierre bajo la multiplicación escalar, tomemos un escalar $ a \\in \\mathbb{F} $ y un vector $ \\mathbf{v} \\in W $. Si $ W $ es un subespacio, entonces el producto $ a \\mathbf{v} $ también debe pertenecer a $ W $. Esta propiedad garantiza que al escalar cualquier vector dentro de $ W $, el resultado seguirá estando dentro de $ W $.\n",
    "\n",
    "#### Contiene al vector cero\n",
    "\n",
    "Finalmente, un subespacio debe contener el vector cero. El vector cero es el elemento neutro bajo la adición en cualquier espacio vectorial, y su presencia en $ W $ es necesaria para que $ W $ cumpla con las propiedades de un espacio vectorial. Esto implica que para cualquier vector $ \\mathbf{v} \\in W $, su opuesto aditivo $ -\\mathbf{v} $ también debe estar en $ W $, ya que $ \\mathbf{v} + (-\\mathbf{v}) = \\mathbf{0} $.\n",
    "\n",
    "### Ejemplos y Contraejemplos\n",
    "\n",
    "#### Ejemplo\n",
    "\n",
    "Consideremos el conjunto de todos los vectores en $ \\mathbb{R}^3 $ que forman el plano $ xy $:\n",
    "$$\n",
    "W = \\{(x, y, 0) \\mid x, y \\in \\mathbb{R}\\}\n",
    "$$\n",
    "- **Cierre bajo la adición**: Si $ \\mathbf{u} = (x_1, y_1, 0) $ y $ \\mathbf{v} = (x_2, y_2, 0) $ están en $ W $, entonces $ \\mathbf{u} + \\mathbf{v} = (x_1 + x_2, y_1 + y_2, 0) $ también está en $ W $.\n",
    "- **Cierre bajo la multiplicación escalar**: Si $ a \\in \\mathbb{R} $ y $ \\mathbf{u} = (x, y, 0) $ está en $ W $, entonces $ a \\mathbf{u} = (a x, a y, 0) $ también está en $ W $.\n",
    "- **Contiene al vector cero**: El vector $ (0, 0, 0) $ está en $ W $ porque para $ x = 0 $ y $ y = 0 $, $ (x, y, 0) = (0, 0, 0) $.\n",
    "\n",
    "Por lo tanto, $ W $ es un subespacio de $ \\mathbb{R}^3 $.\n",
    "\n",
    "#### Contraejemplo\n",
    "\n",
    "Consideremos el conjunto de todos los vectores en $ \\mathbb{R}^3 $ que no contienen el vector cero:\n",
    "$$\n",
    "W = \\{(x, y, z) \\mid x, y, z \\in \\mathbb{R}, \\ (x, y, z) \\neq (0, 0, 0)\\}\n",
    "$$\n",
    "- **Cierre bajo la adición**: Si $ \\mathbf{u} \\in W $ y $ \\mathbf{v} \\in W $, entonces $ \\mathbf{u} + \\mathbf{v} $ no necesariamente pertenece a $ W $. Por ejemplo, $ \\mathbf{u} = (1, -1, 0) $ y $ \\mathbf{v} = (-1, 1, 0) $ están en $ W $, pero $ \\mathbf{u} + \\mathbf{v} = (0, 0, 0) $ no está en $ W $.\n",
    "- **Cierre bajo la multiplicación escalar**: Si $ a = 0 $, entonces $ a \\mathbf{v} = \\mathbf{0} $ no está en $ W $.\n",
    "- **Contiene al vector cero**: El vector cero $ (0, 0, 0) $ no está en $ W $.\n",
    "\n",
    "Por lo tanto, $ W $ no es un subespacio de $ \\mathbb{R}^3 $.\n"
   ]
  },
  {
   "cell_type": "markdown",
   "id": "0755647b-4634-4d76-ab0b-a839859b68a4",
   "metadata": {},
   "source": [
    "# Ejemplos con Python"
   ]
  },
  {
   "cell_type": "markdown",
   "id": "e0d705d8-35e4-498e-984d-14677475a4ff",
   "metadata": {},
   "source": [
    "### Ejemplo 1: Verificar si un conjunto es un subespacio de $ \\mathbb{R}^3 $\n"
   ]
  },
  {
   "cell_type": "code",
   "execution_count": 3,
   "id": "8e2d6f3c-2a2f-4abf-8d66-34a735373ce1",
   "metadata": {},
   "outputs": [
    {
     "name": "stdout",
     "output_type": "stream",
     "text": [
      "El conjunto forma un subespacio de R3: False\n"
     ]
    }
   ],
   "source": [
    "import numpy as np\n",
    "\n",
    "def es_subespacio(conjunto):\n",
    "    # Verificar si contiene el vector cero\n",
    "    if not any(np.array_equal(np.array([0, 0, 0]), v) for v in conjunto):\n",
    "        return False\n",
    "\n",
    "    # Verificar cierre bajo la adición\n",
    "    for u in conjunto:\n",
    "        for v in conjunto:\n",
    "            if not any(np.array_equal(u + v, w) for w in conjunto):\n",
    "                return False\n",
    "\n",
    "    # Verificar cierre bajo la multiplicación escalar\n",
    "    for u in conjunto:\n",
    "        for escalar in np.arange(-10, 11):  # probamos algunos escalares\n",
    "            if not any(np.array_equal(escalar * u, w) for w in conjunto):\n",
    "                return False\n",
    "\n",
    "    return True\n",
    "\n",
    "# Conjunto que forma el plano xy\n",
    "conjunto_plano_xy = [np.array([x, y, 0]) for x in range(-10, 10) for y in range(-10, 10)]\n",
    "\n",
    "print(\"El conjunto forma un subespacio de R3:\", es_subespacio(conjunto_plano_xy))\n"
   ]
  },
  {
   "cell_type": "markdown",
   "id": "b9af7182-2f09-448e-b0dd-fdcfe2bc8958",
   "metadata": {},
   "source": [
    "### Ejemplo 2: Generar un subespacio a partir de una base\n"
   ]
  },
  {
   "cell_type": "code",
   "execution_count": 4,
   "id": "f1fe9650-d8fa-4fa2-aee2-643881a49adc",
   "metadata": {},
   "outputs": [
    {
     "name": "stdout",
     "output_type": "stream",
     "text": [
      "Subespacio generado a partir de la base: [array([-2,  0,  0]), array([-1,  0,  0]), array([0, 0, 0]), array([1, 0, 0]), array([2, 0, 0]), array([ 0, -2,  0]), array([ 0, -1,  0]), array([0, 0, 0]), array([0, 1, 0]), array([0, 2, 0])]\n"
     ]
    }
   ],
   "source": [
    "def generar_subespacio(base, escalares):\n",
    "    subespacio = []\n",
    "    for v in base:\n",
    "        for e in escalares:\n",
    "            subespacio.append(e * np.array(v))\n",
    "    return subespacio\n",
    "\n",
    "base = [np.array([1, 0, 0]), np.array([0, 1, 0])]\n",
    "escalares = range(-2, 3)\n",
    "\n",
    "subespacio = generar_subespacio(base, escalares)\n",
    "print(\"Subespacio generado a partir de la base:\", subespacio)\n"
   ]
  },
  {
   "cell_type": "markdown",
   "id": "7c09c33f-3853-4b06-af4f-215dd13fa64d",
   "metadata": {},
   "source": [
    "### Ejemplo 3: Verificar si un vector pertenece a un subespacio\n"
   ]
  },
  {
   "cell_type": "code",
   "execution_count": 5,
   "id": "8c0ac465-cc07-4a75-a95a-8b97b210747f",
   "metadata": {},
   "outputs": [
    {
     "name": "stdout",
     "output_type": "stream",
     "text": [
      "El vector pertenece al subespacio: True\n"
     ]
    }
   ],
   "source": [
    "def pertenece_al_subespacio(vector, subespacio):\n",
    "    return any(np.array_equal(vector, v) for v in subespacio)\n",
    "\n",
    "vector = np.array([2, 2, 0])\n",
    "subespacio = [np.array([x, y, 0]) for x in range(-10, 10) for y in range(-10, 10)]\n",
    "\n",
    "print(\"El vector pertenece al subespacio:\", pertenece_al_subespacio(vector, subespacio))\n"
   ]
  },
  {
   "cell_type": "code",
   "execution_count": null,
   "id": "d0390ec8-3d5e-4c02-9253-7c2fbe472ff0",
   "metadata": {},
   "outputs": [],
   "source": []
  }
 ],
 "metadata": {
  "kernelspec": {
   "display_name": "Python 3 (ipykernel)",
   "language": "python",
   "name": "python3"
  },
  "language_info": {
   "codemirror_mode": {
    "name": "ipython",
    "version": 3
   },
   "file_extension": ".py",
   "mimetype": "text/x-python",
   "name": "python",
   "nbconvert_exporter": "python",
   "pygments_lexer": "ipython3",
   "version": "3.12.3"
  }
 },
 "nbformat": 4,
 "nbformat_minor": 5
}
