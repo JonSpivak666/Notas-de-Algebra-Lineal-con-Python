{
 "cells": [
  {
   "cell_type": "markdown",
   "id": "f36c334e-0495-4a53-b65e-ec2e033ee243",
   "metadata": {},
   "source": [
    "# Valores y Vectores Propios"
   ]
  },
  {
   "cell_type": "markdown",
   "id": "81d7a059-c992-42da-9928-383a4cd2ed38",
   "metadata": {},
   "source": [
    "**Valores Propios y Vectores Propios**\n",
    "\n",
    "Dado un operador lineal $T: V \\rightarrow V$ en un espacio vectorial $V$, un escalar $\\lambda$ se denomina **valor propio** de $T$ si existe un vector no nulo $v \\in V$ tal que:\n",
    "\n",
    "$$\n",
    "T(v) = \\lambda v\n",
    "$$\n",
    "\n",
    "En este caso, $v$ se denomina **vector propio** asociado a $\\lambda$. En términos matriciales, si $A$ es una matriz cuadrada de tamaño $n \\times n$, $\\lambda$ es un valor propio de $A$ si existe un vector no nulo $v$ tal que:\n",
    "\n",
    "$$\n",
    "Av = \\lambda v\n",
    "$$\n",
    "\n",
    "Para encontrar los valores propios de una matriz $A$, resolvemos la ecuación característica:\n",
    "\n",
    "$$\n",
    "\\det(A - \\lambda I) = 0\n",
    "$$\n",
    "\n",
    "donde $I$ es la matriz identidad de tamaño $n \\times n$ y $\\lambda$ es un escalar. Los valores de $\\lambda$ que satisfacen esta ecuación son los valores propios de $A$.\n",
    "\n",
    "**Polinomio Característico**\n",
    "\n",
    "El polinomio característico de una matriz $A$ de tamaño $n \\times n$ es el polinomio definido por:\n",
    "\n",
    "$$\n",
    "p_A(\\lambda) = \\det(A - \\lambda I)\n",
    "$$\n",
    "\n",
    "Este es un polinomio de grado $n$ cuyos coeficientes son funciones de los elementos de $A$. Las raíces del polinomio característico son los valores propios de $A$.\n",
    "\n",
    "Propiedades importantes de los valores propios:\n",
    "1. La suma de los valores propios de $A$ es igual a la traza de $A$ (la suma de los elementos en la diagonal principal de $A$).\n",
    "2. El producto de los valores propios de $A$ es igual al determinante de $A$.\n",
    "\n",
    "**Diagonalización**\n",
    "\n",
    "Una matriz $A$ es **diagonalizable** si es similar a una matriz diagonal, es decir, si existe una matriz invertible $P$ tal que $P^{-1}AP$ es una matriz diagonal. En términos de operadores lineales, $T$ es diagonalizable si existe una base de $V$ compuesta por vectores propios de $T$.\n",
    "\n",
    "Para que una matriz $A$ sea diagonalizable, es necesario y suficiente que $A$ tenga $n$ vectores propios linealmente independientes, donde $n$ es el tamaño de la matriz.\n",
    "\n",
    "**Formas Canónicas**\n",
    "\n",
    "Además de la diagonalización, existen otras formas canónicas de matrices que simplifican su estudio y aplicación:\n",
    "\n",
    "- **Forma canónica de Jordan**: Una matriz cuadrada $A$ es similar a una matriz de Jordan, que es casi diagonal, con bloques de Jordan en la diagonal. Los bloques de Jordan corresponden a los valores propios y pueden tener unos en la subdiagonal inmediata.\n",
    "\n",
    "- **Forma canónica racional**: Una matriz cuadrada $A$ puede transformarse en una forma canónica racional utilizando fracciones parciales. Esta forma es útil para la factorización y el análisis estructural de matrices.\n"
   ]
  },
  {
   "cell_type": "markdown",
   "id": "f3ff15be-6d6b-46f4-87bf-01e93d75962c",
   "metadata": {},
   "source": [
    "**Criterios de Diagonalización**\n",
    "\n",
    "Una matriz cuadrada $A$ es diagonalizable si cumple las siguientes condiciones:\n",
    "\n",
    "1. El polinomio característico de $A$ tiene $n$ raíces (contando multiplicidades).\n",
    "2. Para cada valor propio $\\lambda$ de $A$, la dimensión del espacio propio correspondiente a $\\lambda$ (es decir, el número de vectores propios linealmente independientes asociados a $\\lambda$) es igual a la multiplicidad algebraica de $\\lambda$ (es decir, el número de veces que $\\lambda$ aparece como raíz del polinomio característico).\n",
    "\n",
    "Formalmente, $A$ es diagonalizable si y solo si para cada valor propio $\\lambda$, la multiplicidad geométrica (dimensión del espacio propio) de $\\lambda$ es igual a su multiplicidad algebraica.\n",
    "\n",
    "**Formas Canónicas**\n",
    "\n",
    "- **Forma Canónica de Jordan**: La forma canónica de Jordan de una matriz $A$ es una matriz casi diagonal, con bloques de Jordan en la diagonal. Cada bloque de Jordan está asociado a un valor propio $\\lambda$ y tiene la forma:\n",
    "\n",
    "  $$\n",
    "  J_k(\\lambda) = \\begin{pmatrix}\n",
    "  \\lambda & 1 & 0 & \\cdots & 0 \\\\\n",
    "  0 & \\lambda & 1 & \\cdots & 0 \\\\\n",
    "  0 & 0 & \\lambda & \\cdots & 0 \\\\\n",
    "  \\vdots & \\vdots & \\vdots & \\ddots & 1 \\\\\n",
    "  0 & 0 & 0 & \\cdots & \\lambda\n",
    "  \\end{pmatrix}\n",
    "  $$\n",
    "\n",
    "  La matriz $A$ es similar a una matriz de Jordan, lo que significa que existe una matriz invertible $P$ tal que $P^{-1}AP$ es una matriz de Jordan.\n",
    "\n",
    "- **Forma Canónica Racional**: La forma canónica racional de una matriz $A$ se obtiene mediante descomposición en fracciones parciales. Esta forma es útil para estudiar la estructura de $A$ y para aplicaciones en teoría de control y otros campos.\n",
    "\n",
    "Para transformar una matriz en su forma canónica de Jordan o en su forma canónica racional, se utilizan técnicas avanzadas de álgebra lineal, incluyendo la descomposición en espacios propios generalizados y el uso de polinomios mínimos.\n"
   ]
  },
  {
   "cell_type": "markdown",
   "id": "8162cfb5-bf46-4174-a2a5-1a9fe39ef4ac",
   "metadata": {},
   "source": [
    "# Ejemplos con Python"
   ]
  },
  {
   "cell_type": "markdown",
   "id": "bc1bc767-ff18-4cb1-8dae-9f892286adc3",
   "metadata": {},
   "source": [
    "#### Ejemplo 1: Cálculo de Valores Propios y Vectores Propios"
   ]
  },
  {
   "cell_type": "code",
   "execution_count": 1,
   "id": "6db0b6a5-dfdf-4e1f-ad7e-73e2fdca22af",
   "metadata": {},
   "outputs": [
    {
     "name": "stdout",
     "output_type": "stream",
     "text": [
      "Valores propios:\n",
      "[3. 2.]\n",
      "Vectores propios:\n",
      "[[0.89442719 0.70710678]\n",
      " [0.4472136  0.70710678]]\n"
     ]
    }
   ],
   "source": [
    "import numpy as np\n",
    "\n",
    "# Definimos una matriz\n",
    "A = np.array([[4, -2], [1, 1]])\n",
    "\n",
    "# Calculamos los valores propios y los vectores propios\n",
    "valores_propios, vectores_propios = np.linalg.eig(A)\n",
    "\n",
    "print(\"Valores propios:\")\n",
    "print(valores_propios)\n",
    "print(\"Vectores propios:\")\n",
    "print(vectores_propios)"
   ]
  },
  {
   "cell_type": "markdown",
   "id": "32d3a220-5bc1-453b-916c-2d44bb93c622",
   "metadata": {},
   "source": [
    "#### Ejemplo 2: Diagonalización de una Matriz"
   ]
  },
  {
   "cell_type": "code",
   "execution_count": 3,
   "id": "b9da8b9f-f522-4af8-9383-14c0a5df034b",
   "metadata": {},
   "outputs": [
    {
     "name": "stdout",
     "output_type": "stream",
     "text": [
      "La matriz es diagonalizable.\n",
      "Matriz diagonal:\n",
      "[[3. 0.]\n",
      " [0. 2.]]\n",
      "Matriz de cambio de base:\n",
      "[[0.89442719 0.70710678]\n",
      " [0.4472136  0.70710678]]\n"
     ]
    }
   ],
   "source": [
    "import numpy as np\n",
    "\n",
    "# Definimos una matriz\n",
    "A = np.array([[4, -2], [1, 1]])\n",
    "\n",
    "# Calculamos los valores propios y los vectores propios\n",
    "valores_propios, vectores_propios = np.linalg.eig(A)\n",
    "\n",
    "# Verificamos si la matriz es diagonalizable\n",
    "if np.linalg.matrix_rank(vectores_propios) == A.shape[0]:\n",
    "    P = vectores_propios\n",
    "    D = np.diag(valores_propios)\n",
    "    P_inv = np.linalg.inv(P)\n",
    "    A_diagonal = P @ D @ P_inv\n",
    "    print(\"La matriz es diagonalizable.\")\n",
    "    print(\"Matriz diagonal:\")\n",
    "    print(D)\n",
    "    print(\"Matriz de cambio de base:\")\n",
    "    print(P)\n",
    "else:\n",
    "    print(\"La matriz no es diagonalizable.\")"
   ]
  },
  {
   "cell_type": "markdown",
   "id": "bdbcba4f-7330-4aee-b195-971405a1d6bf",
   "metadata": {},
   "source": [
    "#### Ejemplo 3: Forma Canónica de Jordan"
   ]
  },
  {
   "cell_type": "code",
   "execution_count": 5,
   "id": "39119d25-31e5-47f6-93ab-dd6eee3b3564",
   "metadata": {},
   "outputs": [
    {
     "name": "stdout",
     "output_type": "stream",
     "text": [
      "Forma canónica de Jordan:\n",
      "Matrix([[1, 1/5 + 3*I/5, 1/5 - 3*I/5], [0, -1/2 - I/2, -1/2 + I/2], [0, 1, 1]])\n",
      "Matriz de cambio de base:\n",
      "Matrix([[5, 0, 0], [0, 2 - I, 0], [0, 0, 2 + I]])\n"
     ]
    }
   ],
   "source": [
    "import numpy as np\n",
    "from sympy import Matrix\n",
    "\n",
    "# Definimos una matriz\n",
    "A = Matrix([[5, 4, 2], [0, 1, -1], [0, 2, 3]])\n",
    "\n",
    "# Calculamos la forma canónica de Jordan\n",
    "J, P = A.jordan_form()\n",
    "\n",
    "print(\"Forma canónica de Jordan:\")\n",
    "print(J)\n",
    "print(\"Matriz de cambio de base:\")\n",
    "print(P)"
   ]
  }
 ],
 "metadata": {
  "kernelspec": {
   "display_name": "Python 3 (ipykernel)",
   "language": "python",
   "name": "python3"
  },
  "language_info": {
   "codemirror_mode": {
    "name": "ipython",
    "version": 3
   },
   "file_extension": ".py",
   "mimetype": "text/x-python",
   "name": "python",
   "nbconvert_exporter": "python",
   "pygments_lexer": "ipython3",
   "version": "3.12.3"
  }
 },
 "nbformat": 4,
 "nbformat_minor": 5
}
